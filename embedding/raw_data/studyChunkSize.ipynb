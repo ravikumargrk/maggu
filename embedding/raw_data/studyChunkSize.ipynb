{
 "cells": [
  {
   "cell_type": "code",
   "execution_count": 279,
   "id": "c42fe56d",
   "metadata": {},
   "outputs": [],
   "source": [
    "import pandas as pd \n",
    "import json\n",
    "\n",
    "with open('DMAS_FLAT_PAGE_META.json', 'r') as f:\n",
    "    page_meta = json.load(f)\n",
    "\n",
    "df = pd.DataFrame.from_records(page_meta)\n",
    "df = df[(df['non_header_lines'] > 0)]\n",
    "df.reset_index(drop=True, inplace=True)"
   ]
  },
  {
   "cell_type": "code",
   "execution_count": 280,
   "id": "60e97c7f",
   "metadata": {},
   "outputs": [
    {
     "data": {
      "image/png": "[encoded data removed]",
      "text/plain": [
       "<Figure size 640x480 with 1 Axes>"
      ]
     },
     "metadata": {},
     "output_type": "display_data"
    }
   ],
   "source": [
    "from matplotlib import pyplot \n",
    "pyplot.hist(df['tokens'][df['tokens']<2000], bins=range(0, 1_000, 100))\n",
    "pyplot.show()"
   ]
  },
  {
   "cell_type": "code",
   "execution_count": 281,
   "id": "4f7b0564",
   "metadata": {},
   "outputs": [
    {
     "data": {
      "image/png": "[encoded data removed]",
      "text/plain": [
       "<Figure size 640x480 with 1 Axes>"
      ]
     },
     "metadata": {},
     "output_type": "display_data"
    }
   ],
   "source": [
    "pyplot.hist(df['tokens'][df['tokens']>2000], bins=range(0, 10_000, 1_000))\n",
    "pyplot.show()"
   ]
  },
  {
   "cell_type": "markdown",
   "id": "b84d2029",
   "metadata": {},
   "source": [
    "### Merging pages to chunks\n",
    "Merging pages up to required token size"
   ]
  },
  {
   "cell_type": "code",
   "execution_count": 282,
   "id": "af4d9c61",
   "metadata": {},
   "outputs": [
    {
     "data": {
      "text/plain": [
       "(-0.001, 300.0]     1545\n",
       "(300.0, 400.0]       138\n",
       "(400.0, 10000.0]     294\n",
       "Name: count, dtype: int64"
      ]
     },
     "execution_count": 282,
     "metadata": {},
     "output_type": "execute_result"
    }
   ],
   "source": [
    "# sliding window approach\n",
    "# club pages side by side for small pages\n",
    "\n",
    "# total toke size\n",
    "df['tokens'].value_counts(bins=[0, 300, 400, 10000]).sort_index()"
   ]
  },
  {
   "cell_type": "code",
   "execution_count": 283,
   "id": "99120038",
   "metadata": {},
   "outputs": [
    {
     "data": {
      "text/plain": [
       "(350, 350, 70.0)"
      ]
     },
     "execution_count": 283,
     "metadata": {},
     "output_type": "execute_result"
    }
   ],
   "source": [
    "N_TOKENS = 350 # 1000 words\n",
    "CHUNK_SIZE = N_TOKENS\n",
    "CHUNK_OVERLAP = 0.2*CHUNK_SIZE\n",
    "\n",
    "N_TOKENS, CHUNK_SIZE, CHUNK_OVERLAP"
   ]
  },
  {
   "cell_type": "code",
   "execution_count": 166,
   "id": "68b713d4",
   "metadata": {},
   "outputs": [
    {
     "data": {
      "text/plain": [
       "(297.5, 402.49999999999994)"
      ]
     },
     "execution_count": 166,
     "metadata": {},
     "output_type": "execute_result"
    }
   ],
   "source": [
    "N_TOKENS*0.85, N_TOKENS*1.15"
   ]
  },
  {
   "cell_type": "code",
   "execution_count": 284,
   "id": "2fc38ce5",
   "metadata": {},
   "outputs": [],
   "source": [
    "from functools import lru_cache\n",
    "from math import inf, pow\n",
    "\n",
    "def tg2pageIdx(token_groups):\n",
    "    current_page = 0\n",
    "    pages = []\n",
    "    for tg in token_groups:\n",
    "        pg_grp = []\n",
    "        for t in tg:\n",
    "            pg_grp.append(current_page)\n",
    "            current_page += 1\n",
    "        pages.append(pg_grp)\n",
    "    return pages\n",
    "\n",
    "# add penality if seq_sum is too low \n",
    "# we can break higher sized chunks but lower chunks is an issue\n",
    "\n",
    "objective_function = lambda target, seg_sum: pow(abs(seg_sum - target), 4) if (abs(seg_sum) < N_TOKENS) else pow(abs(seg_sum - target), 2)\n",
    "\n",
    "def min_error_partition(arr, target):\n",
    "    \"\"\"\n",
    "    Partition a list into contiguous sublists to minimize the sum of squared errors\n",
    "    between each sublist's sum and a target value.\n",
    "\n",
    "    Objective minimized: sum((target - sum(segment))**2 for segment in partition)\n",
    "\n",
    "    Returns:\n",
    "        parts: list[list[int]] — optimal contiguous partition of arr\n",
    "        error: float — minimal total squared error\n",
    "    \"\"\"\n",
    "    n = len(arr)\n",
    "    if n == 0:\n",
    "        return [], 0.0\n",
    "\n",
    "    # prefix sums: ps[i] = sum(arr[:i])\n",
    "    ps = [0] * (n + 1)\n",
    "    for i in range(n):\n",
    "        ps[i + 1] = ps[i] + arr[i]\n",
    "\n",
    "    @lru_cache(maxsize=None)\n",
    "    def best(i):\n",
    "        \"\"\"Best (partition, error) for arr[:i].\"\"\"\n",
    "        if i == 0:\n",
    "            return tuple(), 0.0\n",
    "\n",
    "        best_parts = None\n",
    "        best_err = inf\n",
    "        # Try last segment arr[k:i] for all k < i\n",
    "        for k in range(i):\n",
    "            parts_k, err_k = best(k)\n",
    "            segment_sum = ps[i] - ps[k]\n",
    "            cur_err = err_k + objective_function(target, segment_sum)\n",
    "            if cur_err < best_err:\n",
    "                best_err = cur_err\n",
    "                best_parts = parts_k + (tuple(arr[k:i]),)\n",
    "        return best_parts, best_err\n",
    "\n",
    "    parts_t, err = best(n)\n",
    "    parts = [list(seg) for seg in parts_t]\n",
    "    return parts, err\n",
    "\n",
    "token_groups, error = min_error_partition(df['tokens'].to_list(), target=N_TOKENS)"
   ]
  },
  {
   "cell_type": "code",
   "execution_count": 285,
   "id": "a8fc1eb5",
   "metadata": {},
   "outputs": [
    {
     "data": {
      "text/html": [
       "<div>\n",
       "<style scoped>\n",
       "    .dataframe tbody tr th:only-of-type {\n",
       "        vertical-align: middle;\n",
       "    }\n",
       "\n",
       "    .dataframe tbody tr th {\n",
       "        vertical-align: top;\n",
       "    }\n",
       "\n",
       "    .dataframe thead th {\n",
       "        text-align: right;\n",
       "    }\n",
       "</style>\n",
       "<table border=\"1\" class=\"dataframe\">\n",
       "  <thead>\n",
       "    <tr style=\"text-align: right;\">\n",
       "      <th></th>\n",
       "      <th>sum</th>\n",
       "      <th>size</th>\n",
       "    </tr>\n",
       "  </thead>\n",
       "  <tbody>\n",
       "    <tr>\n",
       "      <th>count</th>\n",
       "      <td>503.000000</td>\n",
       "      <td>503.000000</td>\n",
       "    </tr>\n",
       "    <tr>\n",
       "      <th>mean</th>\n",
       "      <td>504.838966</td>\n",
       "      <td>3.407555</td>\n",
       "    </tr>\n",
       "    <tr>\n",
       "      <th>std</th>\n",
       "      <td>218.303665</td>\n",
       "      <td>3.608713</td>\n",
       "    </tr>\n",
       "    <tr>\n",
       "      <th>min</th>\n",
       "      <td>328.000000</td>\n",
       "      <td>2.000000</td>\n",
       "    </tr>\n",
       "    <tr>\n",
       "      <th>25%</th>\n",
       "      <td>392.500000</td>\n",
       "      <td>2.000000</td>\n",
       "    </tr>\n",
       "    <tr>\n",
       "      <th>50%</th>\n",
       "      <td>453.000000</td>\n",
       "      <td>3.000000</td>\n",
       "    </tr>\n",
       "    <tr>\n",
       "      <th>75%</th>\n",
       "      <td>546.500000</td>\n",
       "      <td>3.000000</td>\n",
       "    </tr>\n",
       "    <tr>\n",
       "      <th>max</th>\n",
       "      <td>2402.000000</td>\n",
       "      <td>35.000000</td>\n",
       "    </tr>\n",
       "  </tbody>\n",
       "</table>\n",
       "</div>"
      ],
      "text/plain": [
       "               sum        size\n",
       "count   503.000000  503.000000\n",
       "mean    504.838966    3.407555\n",
       "std     218.303665    3.608713\n",
       "min     328.000000    2.000000\n",
       "25%     392.500000    2.000000\n",
       "50%     453.000000    3.000000\n",
       "75%     546.500000    3.000000\n",
       "max    2402.000000   35.000000"
      ]
     },
     "execution_count": 285,
     "metadata": {},
     "output_type": "execute_result"
    }
   ],
   "source": [
    "token_groups_info = pd.DataFrame(\n",
    "    {\n",
    "        'sum': [sum(w) for w in token_groups], \n",
    "        'size': [len(w) for w in token_groups], \n",
    "        'pages': tg2pageIdx(token_groups)\n",
    "    }\n",
    ")\n",
    "\n",
    "# group_dist = token_groups_info['sum'].value_counts(bins=range(0, 10000, 1000)).sort_index()\n",
    "# group_dist.plot.bar()\n",
    "\n",
    "# these are the ones which are merged\n",
    "tokens_merged = token_groups_info[~(token_groups_info['size']==1)]\n",
    "tokens_merged.describe()"
   ]
  },
  {
   "cell_type": "markdown",
   "id": "824c99f8",
   "metadata": {},
   "source": [
    "### Breaking bigger Chunks"
   ]
  },
  {
   "cell_type": "code",
   "execution_count": 286,
   "id": "92ca271b",
   "metadata": {},
   "outputs": [
    {
     "name": "stdout",
     "output_type": "stream",
     "text": [
      "350 350 70.0\n"
     ]
    },
    {
     "data": {
      "text/html": [
       "<div>\n",
       "<style scoped>\n",
       "    .dataframe tbody tr th:only-of-type {\n",
       "        vertical-align: middle;\n",
       "    }\n",
       "\n",
       "    .dataframe tbody tr th {\n",
       "        vertical-align: top;\n",
       "    }\n",
       "\n",
       "    .dataframe thead th {\n",
       "        text-align: right;\n",
       "    }\n",
       "</style>\n",
       "<table border=\"1\" class=\"dataframe\">\n",
       "  <thead>\n",
       "    <tr style=\"text-align: right;\">\n",
       "      <th></th>\n",
       "      <th>sum</th>\n",
       "      <th>size</th>\n",
       "      <th>pages</th>\n",
       "    </tr>\n",
       "  </thead>\n",
       "  <tbody>\n",
       "    <tr>\n",
       "      <th>0</th>\n",
       "      <td>1171</td>\n",
       "      <td>1</td>\n",
       "      <td>[0]</td>\n",
       "    </tr>\n",
       "    <tr>\n",
       "      <th>1</th>\n",
       "      <td>445</td>\n",
       "      <td>3</td>\n",
       "      <td>[1, 2, 3]</td>\n",
       "    </tr>\n",
       "    <tr>\n",
       "      <th>2</th>\n",
       "      <td>695</td>\n",
       "      <td>2</td>\n",
       "      <td>[4, 5]</td>\n",
       "    </tr>\n",
       "    <tr>\n",
       "      <th>3</th>\n",
       "      <td>438</td>\n",
       "      <td>1</td>\n",
       "      <td>[6]</td>\n",
       "    </tr>\n",
       "    <tr>\n",
       "      <th>4</th>\n",
       "      <td>380</td>\n",
       "      <td>2</td>\n",
       "      <td>[7, 8]</td>\n",
       "    </tr>\n",
       "    <tr>\n",
       "      <th>...</th>\n",
       "      <td>...</td>\n",
       "      <td>...</td>\n",
       "      <td>...</td>\n",
       "    </tr>\n",
       "    <tr>\n",
       "      <th>761</th>\n",
       "      <td>347</td>\n",
       "      <td>7</td>\n",
       "      <td>[1947, 1948, 1949, 1950, 1951, 1952, 1953]</td>\n",
       "    </tr>\n",
       "    <tr>\n",
       "      <th>762</th>\n",
       "      <td>342</td>\n",
       "      <td>8</td>\n",
       "      <td>[1954, 1955, 1956, 1957, 1958, 1959, 1960, 1961]</td>\n",
       "    </tr>\n",
       "    <tr>\n",
       "      <th>763</th>\n",
       "      <td>374</td>\n",
       "      <td>7</td>\n",
       "      <td>[1962, 1963, 1964, 1965, 1966, 1967, 1968]</td>\n",
       "    </tr>\n",
       "    <tr>\n",
       "      <th>764</th>\n",
       "      <td>346</td>\n",
       "      <td>7</td>\n",
       "      <td>[1969, 1970, 1971, 1972, 1973, 1974, 1975]</td>\n",
       "    </tr>\n",
       "    <tr>\n",
       "      <th>765</th>\n",
       "      <td>369</td>\n",
       "      <td>1</td>\n",
       "      <td>[1976]</td>\n",
       "    </tr>\n",
       "  </tbody>\n",
       "</table>\n",
       "<p>766 rows × 3 columns</p>\n",
       "</div>"
      ],
      "text/plain": [
       "      sum  size                                             pages\n",
       "0    1171     1                                               [0]\n",
       "1     445     3                                         [1, 2, 3]\n",
       "2     695     2                                            [4, 5]\n",
       "3     438     1                                               [6]\n",
       "4     380     2                                            [7, 8]\n",
       "..    ...   ...                                               ...\n",
       "761   347     7        [1947, 1948, 1949, 1950, 1951, 1952, 1953]\n",
       "762   342     8  [1954, 1955, 1956, 1957, 1958, 1959, 1960, 1961]\n",
       "763   374     7        [1962, 1963, 1964, 1965, 1966, 1967, 1968]\n",
       "764   346     7        [1969, 1970, 1971, 1972, 1973, 1974, 1975]\n",
       "765   369     1                                            [1976]\n",
       "\n",
       "[766 rows x 3 columns]"
      ]
     },
     "execution_count": 286,
     "metadata": {},
     "output_type": "execute_result"
    }
   ],
   "source": [
    "# strategy\n",
    "# recursive splitter only!\n",
    "# sub sequent chunks contains \n",
    "\n",
    "print(N_TOKENS, CHUNK_SIZE, CHUNK_OVERLAP)\n",
    "\n",
    "token_groups_info"
   ]
  },
  {
   "cell_type": "code",
   "execution_count": 287,
   "id": "cabef2e8",
   "metadata": {},
   "outputs": [
    {
     "data": {
      "text/plain": [
       "(-0.001, 300.0]       0\n",
       "(300.0, 400.0]      180\n",
       "(400.0, 10000.0]    586\n",
       "Name: count, dtype: int64"
      ]
     },
     "execution_count": 287,
     "metadata": {},
     "output_type": "execute_result"
    }
   ],
   "source": [
    "token_groups_info['sum'].value_counts(bins=[0, 300, 400, 10000]).sort_index()"
   ]
  },
  {
   "cell_type": "code",
   "execution_count": 307,
   "id": "b79388a4",
   "metadata": {},
   "outputs": [],
   "source": [
    "from typing import Callable, List, Optional, Tuple, Union\n",
    "import random\n",
    "\n",
    "OverlapParam = Union[int, float, Tuple[int, int], Callable[[int, int], int], None]\n",
    "\n",
    "def split_text_by_words(\n",
    "    text: str,\n",
    "    min_words: int,\n",
    "    max_words: int,\n",
    "    overlap: OverlapParam = None,\n",
    "    seed: Optional[int] = None,\n",
    ") -> List[str]:\n",
    "    \"\"\"\n",
    "    Split `text` into chunks with word counts strictly between `min_words` and `max_words`,\n",
    "    using variable overlap between consecutive chunks.\n",
    "\n",
    "    Args:\n",
    "        text: The input text.\n",
    "        min_words: Lower strict bound for words per chunk (exclusive).\n",
    "        max_words: Upper strict bound for words per chunk (exclusive).\n",
    "        overlap:\n",
    "            - None -> default to 20% of chunk length (at least 1, capped to chunk_len-1)\n",
    "            - int  -> fixed overlap words\n",
    "            - float in [0,1) -> fraction of current chunk length\n",
    "            - (int, int) -> random overlap in inclusive range [min, max]\n",
    "            - callable (chunk_index, chunk_len) -> int overlap words\n",
    "        seed: Random seed (used only if `overlap` is a range).\n",
    "\n",
    "    Returns:\n",
    "        List[str]: The chunks as strings.\n",
    "\n",
    "    Notes:\n",
    "        - Guarantees: For all chunks L, min_words < L < max_words.\n",
    "        - If the entire text has <= min_words words, returns [] to honor strict bounds.\n",
    "        - The splitter automatically adjusts overlap to avoid a final too-short chunk.\n",
    "    \"\"\"\n",
    "    if not isinstance(min_words, int) or not isinstance(max_words, int):\n",
    "        raise TypeError(\"min_words and max_words must be integers\")\n",
    "\n",
    "    # Strictly between => there must be at least one integer length available\n",
    "    if max_words - min_words < 2:\n",
    "        raise ValueError(\n",
    "            \"No valid chunk size exists with strict bounds; require max_words - min_words >= 2\"\n",
    "        )\n",
    "\n",
    "    # Tokenize by whitespace (simple and fast). If you need punctuation-aware tokenization,\n",
    "    # you can swap this with a different tokenizer.\n",
    "    words = text.split()\n",
    "    n = len(words)\n",
    "\n",
    "    # If there aren't enough words to make even one valid chunk, return nothing.\n",
    "    if n <= min_words:\n",
    "        return []\n",
    "\n",
    "    rng = random.Random(seed)\n",
    "\n",
    "    def resolve_overlap(param: OverlapParam, chunk_len: int, chunk_idx: int) -> int:\n",
    "        \"\"\"Compute overlap for the *next* transition based on `param`.\"\"\"\n",
    "        if param is None:\n",
    "            v = max(1, int(round(0.20 * chunk_len)))  # default: 20% overlap\n",
    "        elif isinstance(param, int):\n",
    "            v = param\n",
    "        elif isinstance(param, float):\n",
    "            if not (0.0 <= param < 1.0):\n",
    "                raise ValueError(\"Float overlap must be in [0,1)\")\n",
    "            v = int(round(param * chunk_len))\n",
    "        elif isinstance(param, tuple) and len(param) == 2:\n",
    "            a, b = param\n",
    "            if a > b:\n",
    "                a, b = b, a\n",
    "            v = rng.randint(a, b)\n",
    "        elif callable(param):\n",
    "            v = int(param(chunk_idx, chunk_len))\n",
    "        else:\n",
    "            raise TypeError(\"Unsupported overlap parameter type\")\n",
    "\n",
    "        # Clamp: cannot overlap as many as the whole chunk; require forward progress\n",
    "        return max(0, min(v, max(0, chunk_len - 1)))\n",
    "\n",
    "    chunks: List[str] = []\n",
    "    start = 0\n",
    "    chunk_idx = 0\n",
    "\n",
    "    while start < n:\n",
    "        remaining = n - start\n",
    "        # Choose the current chunk length within the strict bounds.\n",
    "        # Prefer the longest valid chunk (greedy) without exceeding max_words - 1.\n",
    "        L = min(max_words - 1, remaining)\n",
    "\n",
    "        if L <= min_words:\n",
    "            # Not enough words remain to form a valid chunk.\n",
    "            # This can happen only at the very start (n <= min_words) or\n",
    "            # if previous overlap adjustments already tried to prevent this.\n",
    "            break\n",
    "\n",
    "        # Decide overlap for the transition to the next chunk.\n",
    "        ov = resolve_overlap(overlap, L, chunk_idx)\n",
    "\n",
    "        # Compute next start position with that overlap.\n",
    "        next_start = start + L - ov\n",
    "\n",
    "        # Peek at tail remainder after this choice:\n",
    "        remainder_after = n - next_start\n",
    "\n",
    "        # If we'd leave a short tail (0 < remainder <= min_words), increase overlap now\n",
    "        # to ensure the next chunk can be valid (has at least min_words + 1 words).\n",
    "        if 0 < remainder_after <= min_words:\n",
    "            needed = (min_words + 1) - remainder_after  # words to add to the next chunk\n",
    "            ov_candidate = min(ov + needed, L - 1)\n",
    "            # Recompute with the adjusted overlap\n",
    "            next_start_candidate = start + L - ov_candidate\n",
    "            remainder_after_candidate = n - next_start_candidate\n",
    "            # Accept if it fixes the tail\n",
    "            if remainder_after_candidate > min_words:\n",
    "                ov = ov_candidate\n",
    "                next_start = next_start_candidate\n",
    "\n",
    "        # Emit the current chunk\n",
    "        end = start + L\n",
    "        chunks.append(\" \".join(words[start:end]))\n",
    "\n",
    "        # Advance\n",
    "        start = next_start\n",
    "        chunk_idx += 1\n",
    "\n",
    "    return chunks\n",
    "    "
   ]
  },
  {
   "cell_type": "code",
   "execution_count": null,
   "id": "a655d8e7",
   "metadata": {},
   "outputs": [
    {
     "data": {
      "text/plain": [
       "(-0.001, 299.0]        4\n",
       "(299.0, 400.0]      1814\n",
       "(400.0, 10000.0]       0\n",
       "Name: count, dtype: int64"
      ]
     },
     "execution_count": 334,
     "metadata": {},
     "output_type": "execute_result"
    }
   ],
   "source": [
    "import os \n",
    "from glob import glob\n",
    "for file in glob(r'chunks/*.md'):\n",
    "    os.remove(file)\n",
    "\n",
    "# from langchain.text_splitter import CharacterTextSplitter\n",
    "# splitter = splitter = CharacterTextSplitter.from_tiktoken_encoder(\n",
    "#     encoding_name=\"cl100k_base\", chunk_size=4*N_TOKENS, chunk_overlap=100\n",
    "# )\n",
    "\n",
    "from langchain_text_splitters import RecursiveCharacterTextSplitter\n",
    "splitter = RecursiveCharacterTextSplitter(\n",
    "    # Set a really small chunk size, just to show.\n",
    "    separators=[' ', '\\n'], chunk_size=4*N_TOKENS, chunk_overlap=100, length_function=len, is_separator_regex=False,\n",
    ")\n",
    "\n",
    "# split token groups with token sized greater then 400\n",
    "def read_md_content(page_idx):\n",
    "    content = ''\n",
    "    with open('md_content/' + page_meta[page_idx]['md']) as f:\n",
    "        content += f.read()\n",
    "    return content\n",
    "\n",
    "def write_chunk(content, filename):\n",
    "    with open('chunks/' + filename, 'w') as f:\n",
    "        f.write(content)\n",
    "    return\n",
    "\n",
    "chunk_meta = []\n",
    "split_chunk_lengths = []\n",
    "\n",
    "for idx, tg_info in token_groups_info.iterrows():\n",
    "    # get text and use recursive splitter\n",
    "    content = ''\n",
    "    breadcrumbs = []\n",
    "    for page_idx in tg_info['pages']:\n",
    "        content_ = [content, read_md_content(page_idx)]\n",
    "        content = '\\n'.join([c for c in content_ if c])\n",
    "        breadcrumbs.append(page_meta[page_idx]['title'])\n",
    "    \n",
    "    if len(content.strip().split()) < 400:\n",
    "        chunks_iter = [(0, content.strip())]\n",
    "    else:\n",
    "        chunks_iter = enumerate(split_text_by_words(content.strip(), min_words=300, max_words=400))\n",
    "        # chunks_iter = enumerate(splitter.split_text(content.strip()))\n",
    "\n",
    "    for chunk_idx, chunk_content in chunks_iter:\n",
    "        filename = 'DMAS_{:04d}.md'.format(len(chunk_meta))\n",
    "        chunk_length = len(chunk_content.split())\n",
    "        \n",
    "        chunk_meta.append(\n",
    "            {\n",
    "                'source_pages': tg_info['pages'], \n",
    "                'chunk_id': chunk_idx, \n",
    "                'breadcrumbs': breadcrumbs,\n",
    "                'filename': filename,\n",
    "                'size': chunk_length \n",
    "            }\n",
    "        )\n",
    "        \n",
    "        # if chunk_length < 300:\n",
    "        #     print(idx, tg_info.to_dict())\n",
    "        #     print(chunk_length, chunk_idx)\n",
    "\n",
    "        write_chunk(chunk_content, filename)\n",
    "\n",
    "df_chunks = pd.DataFrame.from_records(chunk_meta)\n",
    "df_chunks['size'].value_counts(bins=[0, 299, 400, 10000]).sort_index()"
   ]
  },
  {
   "cell_type": "code",
   "execution_count": 337,
   "id": "8b462cf2",
   "metadata": {},
   "outputs": [],
   "source": [
    "with open('DMAS_CHUNK_META.json', 'w') as f:\n",
    "    json.dump(chunk_meta, f, indent=4)"
   ]
  },
  {
   "cell_type": "code",
   "execution_count": null,
   "id": "aeb4c156",
   "metadata": {},
   "outputs": [],
   "source": []
  }
 ],
 "metadata": {
  "kernelspec": {
   "display_name": "maggu_pyenv",
   "language": "python",
   "name": "python3"
  },
  "language_info": {
   "codemirror_mode": {
    "name": "ipython",
    "version": 3
   },
   "file_extension": ".py",
   "mimetype": "text/x-python",
   "name": "python",
   "nbconvert_exporter": "python",
   "pygments_lexer": "ipython3",
   "version": "3.9.20"
  }
 },
 "nbformat": 4,
 "nbformat_minor": 5
}
