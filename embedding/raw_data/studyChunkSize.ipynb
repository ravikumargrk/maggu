{
 "cells": [
  {
   "cell_type": "code",
   "execution_count": 78,
   "id": "c42fe56d",
   "metadata": {},
   "outputs": [],
   "source": [
    "import pandas as pd \n",
    "import json\n",
    "\n",
    "with open('DMAS_FLAT_PAGE_META.json', 'r') as f:\n",
    "    page_meta = json.load(f)\n",
    "\n",
    "df = pd.DataFrame.from_records(page_meta)\n",
    "df = df[(df['non_header_lines'] > 0)]\n",
    "df.reset_index(drop=True, inplace=True)"
   ]
  },
  {
   "cell_type": "code",
   "execution_count": 79,
   "id": "ba78b7e7",
   "metadata": {},
   "outputs": [
    {
     "data": {
      "text/plain": [
       "<Axes: ylabel='Frequency'>"
      ]
     },
     "execution_count": 79,
     "metadata": {},
     "output_type": "execute_result"
    },
    {
     "data": {
      "image/png": "[encoded data removed]",
      "text/plain": [
       "<Figure size 640x480 with 1 Axes>"
      ]
     },
     "metadata": {},
     "output_type": "display_data"
    }
   ],
   "source": [
    "df['tokens'].plot.hist(bins=50)"
   ]
  },
  {
   "cell_type": "code",
   "execution_count": 28,
   "id": "15c09f7d",
   "metadata": {},
   "outputs": [
    {
     "data": {
      "text/plain": [
       "section\n",
       "3    622\n",
       "4    556\n",
       "2    434\n",
       "5     99\n",
       "1     16\n",
       "Name: count, dtype: int64"
      ]
     },
     "execution_count": 28,
     "metadata": {},
     "output_type": "execute_result"
    }
   ],
   "source": [
    "# df.loc[:, 'section_str'] = df['section'].apply(lambda lst: '.'.join([str(i) for i in lst]))\n",
    "df['section'].apply(len).value_counts()"
   ]
  },
  {
   "cell_type": "code",
   "execution_count": 80,
   "id": "109d14c7",
   "metadata": {},
   "outputs": [],
   "source": [
    "expand = lambda lst: dict(enumerate(lst))\n",
    "\n",
    "df_index = pd.DataFrame.from_dict(df['section'].apply(expand).to_list())"
   ]
  },
  {
   "cell_type": "code",
   "execution_count": 81,
   "id": "94cd577f",
   "metadata": {},
   "outputs": [
    {
     "data": {
      "text/plain": [
       "<Axes: xlabel='0'>"
      ]
     },
     "execution_count": 81,
     "metadata": {},
     "output_type": "execute_result"
    },
    {
     "data": {
      "image/png": "[encoded data removed]",
      "text/plain": [
       "<Figure size 640x480 with 1 Axes>"
      ]
     },
     "metadata": {},
     "output_type": "display_data"
    }
   ],
   "source": [
    "df_index[0].value_counts().sort_index().plot.bar()"
   ]
  },
  {
   "cell_type": "code",
   "execution_count": 77,
   "id": "f27d85e3",
   "metadata": {},
   "outputs": [
    {
     "data": {
      "text/html": [
       "<div>\n",
       "<style scoped>\n",
       "    .dataframe tbody tr th:only-of-type {\n",
       "        vertical-align: middle;\n",
       "    }\n",
       "\n",
       "    .dataframe tbody tr th {\n",
       "        vertical-align: top;\n",
       "    }\n",
       "\n",
       "    .dataframe thead th {\n",
       "        text-align: right;\n",
       "    }\n",
       "</style>\n",
       "<table border=\"1\" class=\"dataframe\">\n",
       "  <thead>\n",
       "    <tr style=\"text-align: right;\">\n",
       "      <th></th>\n",
       "      <th>section</th>\n",
       "      <th>title</th>\n",
       "      <th>md</th>\n",
       "      <th>tokens</th>\n",
       "      <th>non_header_lines</th>\n",
       "      <th>children</th>\n",
       "      <th>section_str</th>\n",
       "    </tr>\n",
       "  </thead>\n",
       "  <tbody>\n",
       "    <tr>\n",
       "      <th>0</th>\n",
       "      <td>[0]</td>\n",
       "      <td>Mastercard Network Processing Dual Message Aut...</td>\n",
       "      <td>fql1729791739642.html.md</td>\n",
       "      <td>2433</td>\n",
       "      <td>61</td>\n",
       "      <td>[]</td>\n",
       "      <td>0</td>\n",
       "    </tr>\n",
       "    <tr>\n",
       "      <th>1</th>\n",
       "      <td>[1]</td>\n",
       "      <td>How to use this guide</td>\n",
       "      <td>kwn1724863424441.html.md</td>\n",
       "      <td>468</td>\n",
       "      <td>27</td>\n",
       "      <td>[]</td>\n",
       "      <td>1</td>\n",
       "    </tr>\n",
       "    <tr>\n",
       "      <th>2</th>\n",
       "      <td>[2, 0]</td>\n",
       "      <td>Introduction to Mastercard switches for proces...</td>\n",
       "      <td>nze1724869144978.html.md</td>\n",
       "      <td>839</td>\n",
       "      <td>15</td>\n",
       "      <td>[]</td>\n",
       "      <td>2.0</td>\n",
       "    </tr>\n",
       "    <tr>\n",
       "      <th>3</th>\n",
       "      <td>[2, 1]</td>\n",
       "      <td>Introduction to Mastercard Dual Message Author...</td>\n",
       "      <td>iki1724869178217.html.md</td>\n",
       "      <td>1434</td>\n",
       "      <td>22</td>\n",
       "      <td>[]</td>\n",
       "      <td>2.1</td>\n",
       "    </tr>\n",
       "    <tr>\n",
       "      <th>4</th>\n",
       "      <td>[2, 2]</td>\n",
       "      <td>Dual Message Authorization System features</td>\n",
       "      <td>zgd1724869275829.html.md</td>\n",
       "      <td>1183</td>\n",
       "      <td>43</td>\n",
       "      <td>[]</td>\n",
       "      <td>2.2</td>\n",
       "    </tr>\n",
       "    <tr>\n",
       "      <th>...</th>\n",
       "      <td>...</td>\n",
       "      <td>...</td>\n",
       "      <td>...</td>\n",
       "      <td>...</td>\n",
       "      <td>...</td>\n",
       "      <td>...</td>\n",
       "      <td>...</td>\n",
       "    </tr>\n",
       "    <tr>\n",
       "      <th>1975</th>\n",
       "      <td>[18, 124]</td>\n",
       "      <td>DE 125 (New PIN Data)</td>\n",
       "      <td>hsw1729866657364.html.md</td>\n",
       "      <td>46</td>\n",
       "      <td>6</td>\n",
       "      <td>[]</td>\n",
       "      <td>18.124</td>\n",
       "    </tr>\n",
       "    <tr>\n",
       "      <th>1976</th>\n",
       "      <td>[18, 125]</td>\n",
       "      <td>DE 126 (Private Data)</td>\n",
       "      <td>svs1729866919011.html.md</td>\n",
       "      <td>17</td>\n",
       "      <td>2</td>\n",
       "      <td>[]</td>\n",
       "      <td>18.125</td>\n",
       "    </tr>\n",
       "    <tr>\n",
       "      <th>1977</th>\n",
       "      <td>[18, 126]</td>\n",
       "      <td>DE 127 (Private Data)</td>\n",
       "      <td>zxz1729867030716.html.md</td>\n",
       "      <td>40</td>\n",
       "      <td>5</td>\n",
       "      <td>[]</td>\n",
       "      <td>18.126</td>\n",
       "    </tr>\n",
       "    <tr>\n",
       "      <th>1978</th>\n",
       "      <td>[18, 127]</td>\n",
       "      <td>DE 128 (Message Authentication Code)</td>\n",
       "      <td>xcz1729867185743.html.md</td>\n",
       "      <td>35</td>\n",
       "      <td>5</td>\n",
       "      <td>[]</td>\n",
       "      <td>18.127</td>\n",
       "    </tr>\n",
       "    <tr>\n",
       "      <th>1980</th>\n",
       "      <td>[19]</td>\n",
       "      <td>Notices</td>\n",
       "      <td>ahf1556911315975.html.md</td>\n",
       "      <td>369</td>\n",
       "      <td>45</td>\n",
       "      <td>[]</td>\n",
       "      <td>19</td>\n",
       "    </tr>\n",
       "  </tbody>\n",
       "</table>\n",
       "<p>1727 rows × 7 columns</p>\n",
       "</div>"
      ],
      "text/plain": [
       "        section                                              title  \\\n",
       "0           [0]  Mastercard Network Processing Dual Message Aut...   \n",
       "1           [1]                              How to use this guide   \n",
       "2        [2, 0]  Introduction to Mastercard switches for proces...   \n",
       "3        [2, 1]  Introduction to Mastercard Dual Message Author...   \n",
       "4        [2, 2]         Dual Message Authorization System features   \n",
       "...         ...                                                ...   \n",
       "1975  [18, 124]                              DE 125 (New PIN Data)   \n",
       "1976  [18, 125]                              DE 126 (Private Data)   \n",
       "1977  [18, 126]                              DE 127 (Private Data)   \n",
       "1978  [18, 127]               DE 128 (Message Authentication Code)   \n",
       "1980       [19]                                            Notices   \n",
       "\n",
       "                            md  tokens  non_header_lines children section_str  \n",
       "0     fql1729791739642.html.md    2433                61       []           0  \n",
       "1     kwn1724863424441.html.md     468                27       []           1  \n",
       "2     nze1724869144978.html.md     839                15       []         2.0  \n",
       "3     iki1724869178217.html.md    1434                22       []         2.1  \n",
       "4     zgd1724869275829.html.md    1183                43       []         2.2  \n",
       "...                        ...     ...               ...      ...         ...  \n",
       "1975  hsw1729866657364.html.md      46                 6       []      18.124  \n",
       "1976  svs1729866919011.html.md      17                 2       []      18.125  \n",
       "1977  zxz1729867030716.html.md      40                 5       []      18.126  \n",
       "1978  xcz1729867185743.html.md      35                 5       []      18.127  \n",
       "1980  ahf1556911315975.html.md     369                45       []          19  \n",
       "\n",
       "[1727 rows x 7 columns]"
      ]
     },
     "execution_count": 77,
     "metadata": {},
     "output_type": "execute_result"
    }
   ],
   "source": [
    "df"
   ]
  },
  {
   "cell_type": "code",
   "execution_count": null,
   "id": "af4d9c61",
   "metadata": {},
   "outputs": [],
   "source": []
  }
 ],
 "metadata": {
  "kernelspec": {
   "display_name": "maggu_pyenv",
   "language": "python",
   "name": "python3"
  },
  "language_info": {
   "codemirror_mode": {
    "name": "ipython",
    "version": 3
   },
   "file_extension": ".py",
   "mimetype": "text/x-python",
   "name": "python",
   "nbconvert_exporter": "python",
   "pygments_lexer": "ipython3",
   "version": "3.9.20"
  }
 },
 "nbformat": 4,
 "nbformat_minor": 5
}
