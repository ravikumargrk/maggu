{
 "cells": [
  {
   "cell_type": "code",
   "execution_count": 22,
   "id": "9ed9e700",
   "metadata": {},
   "outputs": [],
   "source": [
    "\n",
    "# document id used in TRC\n",
    "DOC_ID = 'ezXh6dvgLV1nzevBm9aHDA'\n",
    "\n",
    "import os \n",
    "flattened_document_meta = []\n",
    "def extract_document_info(document_toc_array:list[dict], sec_prefix=[]):\n",
    "    # url_ = f'https://trc-techresource.mastercard.com/r/{DOC_ID}/{content_info['tocId']}'\n",
    "    document_idx_array = []\n",
    "\n",
    "    for sub_idx, document_meta in enumerate(document_toc_array):\n",
    "        document_idx = len(flattened_document_meta)\n",
    "        flattened_document_meta.append(\n",
    "            {\n",
    "                'title': document_meta['title'],\n",
    "                'section': sec_prefix + [sub_idx],\n",
    "                'filename' : os.path.basename(document_meta['prettyUrl']),\n",
    "                'url': f'https://trc-techresource.mastercard.com/r/{DOC_ID}/{document_meta[\"tocId\"]}',\n",
    "                'children': extract_document_info(document_meta['children'], sec_prefix + [sub_idx])\n",
    "            }\n",
    "        )\n",
    "        document_idx_array.append(document_idx)\n",
    "    return document_idx_array\n",
    "\n",
    "import json\n",
    "with open('DMAS_TOC_MAP.json') as f:\n",
    "    toc_meta = json.load(f)\n",
    "    \n",
    "flattened_document_meta = []\n",
    "_ = extract_document_info(toc_meta)"
   ]
  },
  {
   "cell_type": "code",
   "execution_count": 23,
   "id": "132acd48",
   "metadata": {},
   "outputs": [],
   "source": [
    "url2page_map = {page_meta['url']:idx for idx, page_meta in enumerate(flattened_document_meta)}\n",
    "\n",
    "url2img_map = {}\n",
    "import json \n",
    "with open('DMAS_IMG_MAP.json') as f:\n",
    "    img_map = json.load(f)\n",
    "\n",
    "for idx, img_info in enumerate(img_map):\n",
    "    id_ = img_info['id']\n",
    "    # filename = img_info['filename']\n",
    "    src_url = f'https://trc-techresource.mastercard.com/api/khub/maps/{DOC_ID}/resources/{id_}/content'\n",
    "    view_url = f'https://trc-techresource.mastercard.com/viewer/attachment/{DOC_ID}/{id_}'\n",
    "    url2img_map.update(\n",
    "        {\n",
    "            src_url: idx,\n",
    "            view_url: idx  \n",
    "        }\n",
    "    )\n",
    "\n",
    "import re\n",
    "def get_urls(chunk_content:str):\n",
    "    urls = re.findall(r'https://[^)\\s]*', chunk_content)\n",
    "    images_idx = set()\n",
    "    page_links = set()\n",
    "\n",
    "    # images\n",
    "    for url in urls:\n",
    "        if url in url2img_map:\n",
    "            img_idx = url2img_map[url]\n",
    "            chunk_content = chunk_content.replace(url, f'$image_{images_idx}$')\n",
    "            images_idx.add(img_idx)\n",
    "            \n",
    "        if url in url2page_map:\n",
    "            page_idx = url2page_map[url]\n",
    "            page_links.add(page_idx)\n",
    "            chunk_content = chunk_content.replace(url, f'$page_{page_idx}$')\n",
    "    return chunk_content"
   ]
  },
  {
   "cell_type": "code",
   "execution_count": 24,
   "id": "eb1d5e80",
   "metadata": {},
   "outputs": [
    {
     "name": "stderr",
     "output_type": "stream",
     "text": [
      "100%|██████████████████████████████████████████████████████████| 1981/1981 [00:15<00:00, 127.02it/s]\n"
     ]
    }
   ],
   "source": [
    "# convert to markdowns\n",
    "from markdownify import markdownify\n",
    "from tqdm import tqdm\n",
    "OVERRIDE = False\n",
    "for page_meta in tqdm(flattened_document_meta, ncols=100):\n",
    "    with open('html_content/' + page_meta['filename'], mode='r', encoding='utf-8', errors='surrogatepass') as f:\n",
    "        file_content = f.read()\n",
    "        markdown_content = f'# {page_meta[\"title\"]}\\n'\n",
    "        markdown_content += markdownify(file_content, heading_style='ATX')\n",
    "        # clean urls \n",
    "        markdown_content = re.sub(r'(https://[^)\\s])+\\?[^)\\s]+', r'\\1', markdown_content)\n",
    "        # replace urls\n",
    "        markdown_content = get_urls(markdown_content)\n",
    "        # count tokens\n",
    "        page_meta['tokens'] = len(markdown_content.split())\n",
    "        page_meta['non_header_lines'] = len([line for line in markdown_content.splitlines() if not line.startswith('#')])\n",
    "        page_meta['md'] = page_meta['filename']+'.md'\n",
    "        # dump\n",
    "        outfile_path = 'md_content/' + page_meta['filename']+'.md'\n",
    "        if (not os.path.exists(outfile_path)) or OVERRIDE:\n",
    "            with open(outfile_path, mode='w', encoding='utf-8', errors='surrogatepass') as md_f:\n",
    "                md_f.write(markdown_content)"
   ]
  },
  {
   "cell_type": "code",
   "execution_count": 25,
   "id": "cc5c143a",
   "metadata": {},
   "outputs": [],
   "source": [
    "select_keys = ['section', 'title', 'md', 'tokens', 'non_header_lines', 'children']\n",
    "\n",
    "with open('DMAS_FLAT_PAGE_META.json', 'w') as f:\n",
    "    json.dump(\n",
    "        [{key: page_meta[key] for key in select_keys} for page_meta in flattened_document_meta], f, indent=4\n",
    "    )"
   ]
  },
  {
   "cell_type": "code",
   "execution_count": null,
   "id": "f712c276",
   "metadata": {},
   "outputs": [],
   "source": []
  }
 ],
 "metadata": {
  "kernelspec": {
   "display_name": "maggu_pyenv",
   "language": "python",
   "name": "python3"
  },
  "language_info": {
   "codemirror_mode": {
    "name": "ipython",
    "version": 3
   },
   "file_extension": ".py",
   "mimetype": "text/x-python",
   "name": "python",
   "nbconvert_exporter": "python",
   "pygments_lexer": "ipython3",
   "version": "3.9.20"
  }
 },
 "nbformat": 4,
 "nbformat_minor": 5
}
